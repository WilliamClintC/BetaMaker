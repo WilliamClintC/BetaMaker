{
 "cells": [
  {
   "cell_type": "markdown",
   "metadata": {},
   "source": [
    "In this notebook we will investigate weather centrality trading works."
   ]
  },
  {
   "cell_type": "code",
   "execution_count": 52,
   "metadata": {},
   "outputs": [
    {
     "data": {
      "text/html": [
       "<div>\n",
       "<style scoped>\n",
       "    .dataframe tbody tr th:only-of-type {\n",
       "        vertical-align: middle;\n",
       "    }\n",
       "\n",
       "    .dataframe tbody tr th {\n",
       "        vertical-align: top;\n",
       "    }\n",
       "\n",
       "    .dataframe thead th {\n",
       "        text-align: right;\n",
       "    }\n",
       "</style>\n",
       "<table border=\"1\" class=\"dataframe\">\n",
       "  <thead>\n",
       "    <tr style=\"text-align: right;\">\n",
       "      <th></th>\n",
       "      <th>XLC</th>\n",
       "      <th>XLY</th>\n",
       "      <th>XLP</th>\n",
       "      <th>XLE</th>\n",
       "      <th>XLF</th>\n",
       "      <th>XLI</th>\n",
       "      <th>XLB</th>\n",
       "      <th>XLRE</th>\n",
       "      <th>XLV</th>\n",
       "      <th>XLK</th>\n",
       "      <th>XLU</th>\n",
       "    </tr>\n",
       "    <tr>\n",
       "      <th>Date</th>\n",
       "      <th></th>\n",
       "      <th></th>\n",
       "      <th></th>\n",
       "      <th></th>\n",
       "      <th></th>\n",
       "      <th></th>\n",
       "      <th></th>\n",
       "      <th></th>\n",
       "      <th></th>\n",
       "      <th></th>\n",
       "      <th></th>\n",
       "    </tr>\n",
       "  </thead>\n",
       "  <tbody>\n",
       "    <tr>\n",
       "      <th>2018-12-31</th>\n",
       "      <td>0.330756</td>\n",
       "      <td>0.378838</td>\n",
       "      <td>0.139973</td>\n",
       "      <td>0.399186</td>\n",
       "      <td>0.399186</td>\n",
       "      <td>0.388443</td>\n",
       "      <td>0.330756</td>\n",
       "      <td>0.004171</td>\n",
       "      <td>0.066074</td>\n",
       "      <td>0.378838</td>\n",
       "      <td>0.024519</td>\n",
       "    </tr>\n",
       "    <tr>\n",
       "      <th>2019-01-31</th>\n",
       "      <td>0.369636</td>\n",
       "      <td>0.368998</td>\n",
       "      <td>0.177422</td>\n",
       "      <td>0.369636</td>\n",
       "      <td>0.369636</td>\n",
       "      <td>0.368998</td>\n",
       "      <td>0.368998</td>\n",
       "      <td>0.004426</td>\n",
       "      <td>0.172696</td>\n",
       "      <td>0.345692</td>\n",
       "      <td>0.028370</td>\n",
       "    </tr>\n",
       "    <tr>\n",
       "      <th>2019-02-28</th>\n",
       "      <td>0.346814</td>\n",
       "      <td>0.378888</td>\n",
       "      <td>0.056888</td>\n",
       "      <td>0.378888</td>\n",
       "      <td>0.354510</td>\n",
       "      <td>0.378888</td>\n",
       "      <td>0.378888</td>\n",
       "      <td>0.001428</td>\n",
       "      <td>0.237097</td>\n",
       "      <td>0.346814</td>\n",
       "      <td>0.009124</td>\n",
       "    </tr>\n",
       "    <tr>\n",
       "      <th>2019-03-31</th>\n",
       "      <td>0.357648</td>\n",
       "      <td>0.383785</td>\n",
       "      <td>0.060168</td>\n",
       "      <td>0.357648</td>\n",
       "      <td>0.365956</td>\n",
       "      <td>0.383785</td>\n",
       "      <td>0.383785</td>\n",
       "      <td>0.030324</td>\n",
       "      <td>0.189297</td>\n",
       "      <td>0.357648</td>\n",
       "      <td>0.009639</td>\n",
       "    </tr>\n",
       "    <tr>\n",
       "      <th>2019-04-30</th>\n",
       "      <td>0.318355</td>\n",
       "      <td>0.359006</td>\n",
       "      <td>0.372948</td>\n",
       "      <td>0.359006</td>\n",
       "      <td>0.359006</td>\n",
       "      <td>0.365844</td>\n",
       "      <td>0.318355</td>\n",
       "      <td>0.054593</td>\n",
       "      <td>0.053553</td>\n",
       "      <td>0.359006</td>\n",
       "      <td>0.054593</td>\n",
       "    </tr>\n",
       "  </tbody>\n",
       "</table>\n",
       "</div>"
      ],
      "text/plain": [
       "                 XLC       XLY       XLP       XLE       XLF       XLI  \\\n",
       "Date                                                                     \n",
       "2018-12-31  0.330756  0.378838  0.139973  0.399186  0.399186  0.388443   \n",
       "2019-01-31  0.369636  0.368998  0.177422  0.369636  0.369636  0.368998   \n",
       "2019-02-28  0.346814  0.378888  0.056888  0.378888  0.354510  0.378888   \n",
       "2019-03-31  0.357648  0.383785  0.060168  0.357648  0.365956  0.383785   \n",
       "2019-04-30  0.318355  0.359006  0.372948  0.359006  0.359006  0.365844   \n",
       "\n",
       "                 XLB      XLRE       XLV       XLK       XLU  \n",
       "Date                                                          \n",
       "2018-12-31  0.330756  0.004171  0.066074  0.378838  0.024519  \n",
       "2019-01-31  0.368998  0.004426  0.172696  0.345692  0.028370  \n",
       "2019-02-28  0.378888  0.001428  0.237097  0.346814  0.009124  \n",
       "2019-03-31  0.383785  0.030324  0.189297  0.357648  0.009639  \n",
       "2019-04-30  0.318355  0.054593  0.053553  0.359006  0.054593  "
      ]
     },
     "execution_count": 52,
     "metadata": {},
     "output_type": "execute_result"
    }
   ],
   "source": [
    "import pandas as pd\n",
    "\n",
    "# Specify the file path\n",
    "file_path = 'CentralityData1.xlsx'\n",
    "\n",
    "# Read the Excel file\n",
    "df = pd.read_excel(file_path)\n",
    "df\n",
    "\n",
    "df = df.set_index('Unnamed: 0')\n",
    "\n",
    "df = df.rename_axis('Date')\n",
    "df.head()\n"
   ]
  },
  {
   "cell_type": "code",
   "execution_count": 53,
   "metadata": {},
   "outputs": [
    {
     "data": {
      "text/html": [
       "<div>\n",
       "<style scoped>\n",
       "    .dataframe tbody tr th:only-of-type {\n",
       "        vertical-align: middle;\n",
       "    }\n",
       "\n",
       "    .dataframe tbody tr th {\n",
       "        vertical-align: top;\n",
       "    }\n",
       "\n",
       "    .dataframe thead th {\n",
       "        text-align: right;\n",
       "    }\n",
       "</style>\n",
       "<table border=\"1\" class=\"dataframe\">\n",
       "  <thead>\n",
       "    <tr style=\"text-align: right;\">\n",
       "      <th></th>\n",
       "      <th>XLC</th>\n",
       "      <th>XLY</th>\n",
       "      <th>XLP</th>\n",
       "      <th>XLE</th>\n",
       "      <th>XLF</th>\n",
       "      <th>XLI</th>\n",
       "      <th>XLB</th>\n",
       "      <th>XLRE</th>\n",
       "      <th>XLV</th>\n",
       "      <th>XLK</th>\n",
       "      <th>XLU</th>\n",
       "    </tr>\n",
       "    <tr>\n",
       "      <th>Date</th>\n",
       "      <th></th>\n",
       "      <th></th>\n",
       "      <th></th>\n",
       "      <th></th>\n",
       "      <th></th>\n",
       "      <th></th>\n",
       "      <th></th>\n",
       "      <th></th>\n",
       "      <th></th>\n",
       "      <th></th>\n",
       "      <th></th>\n",
       "    </tr>\n",
       "  </thead>\n",
       "  <tbody>\n",
       "    <tr>\n",
       "      <th>2018-12-31</th>\n",
       "      <td>0.0</td>\n",
       "      <td>0.000000</td>\n",
       "      <td>0.0</td>\n",
       "      <td>0.50</td>\n",
       "      <td>0.5</td>\n",
       "      <td>0.000000</td>\n",
       "      <td>0.000000</td>\n",
       "      <td>0.0</td>\n",
       "      <td>0.0</td>\n",
       "      <td>0.0</td>\n",
       "      <td>0.0</td>\n",
       "    </tr>\n",
       "    <tr>\n",
       "      <th>2019-01-31</th>\n",
       "      <td>0.0</td>\n",
       "      <td>0.000000</td>\n",
       "      <td>0.0</td>\n",
       "      <td>0.50</td>\n",
       "      <td>0.5</td>\n",
       "      <td>0.000000</td>\n",
       "      <td>0.000000</td>\n",
       "      <td>0.0</td>\n",
       "      <td>0.0</td>\n",
       "      <td>0.0</td>\n",
       "      <td>0.0</td>\n",
       "    </tr>\n",
       "    <tr>\n",
       "      <th>2019-02-28</th>\n",
       "      <td>0.0</td>\n",
       "      <td>0.250000</td>\n",
       "      <td>0.0</td>\n",
       "      <td>0.25</td>\n",
       "      <td>0.0</td>\n",
       "      <td>0.250000</td>\n",
       "      <td>0.250000</td>\n",
       "      <td>0.0</td>\n",
       "      <td>0.0</td>\n",
       "      <td>0.0</td>\n",
       "      <td>0.0</td>\n",
       "    </tr>\n",
       "    <tr>\n",
       "      <th>2019-03-31</th>\n",
       "      <td>0.0</td>\n",
       "      <td>0.333333</td>\n",
       "      <td>0.0</td>\n",
       "      <td>0.00</td>\n",
       "      <td>0.0</td>\n",
       "      <td>0.333333</td>\n",
       "      <td>0.333333</td>\n",
       "      <td>0.0</td>\n",
       "      <td>0.0</td>\n",
       "      <td>0.0</td>\n",
       "      <td>0.0</td>\n",
       "    </tr>\n",
       "    <tr>\n",
       "      <th>2019-04-30</th>\n",
       "      <td>0.0</td>\n",
       "      <td>0.000000</td>\n",
       "      <td>1.0</td>\n",
       "      <td>0.00</td>\n",
       "      <td>0.0</td>\n",
       "      <td>0.000000</td>\n",
       "      <td>0.000000</td>\n",
       "      <td>0.0</td>\n",
       "      <td>0.0</td>\n",
       "      <td>0.0</td>\n",
       "      <td>0.0</td>\n",
       "    </tr>\n",
       "  </tbody>\n",
       "</table>\n",
       "</div>"
      ],
      "text/plain": [
       "            XLC       XLY  XLP   XLE  XLF       XLI       XLB  XLRE  XLV  XLK  \\\n",
       "Date                                                                            \n",
       "2018-12-31  0.0  0.000000  0.0  0.50  0.5  0.000000  0.000000   0.0  0.0  0.0   \n",
       "2019-01-31  0.0  0.000000  0.0  0.50  0.5  0.000000  0.000000   0.0  0.0  0.0   \n",
       "2019-02-28  0.0  0.250000  0.0  0.25  0.0  0.250000  0.250000   0.0  0.0  0.0   \n",
       "2019-03-31  0.0  0.333333  0.0  0.00  0.0  0.333333  0.333333   0.0  0.0  0.0   \n",
       "2019-04-30  0.0  0.000000  1.0  0.00  0.0  0.000000  0.000000   0.0  0.0  0.0   \n",
       "\n",
       "            XLU  \n",
       "Date             \n",
       "2018-12-31  0.0  \n",
       "2019-01-31  0.0  \n",
       "2019-02-28  0.0  \n",
       "2019-03-31  0.0  \n",
       "2019-04-30  0.0  "
      ]
     },
     "execution_count": 53,
     "metadata": {},
     "output_type": "execute_result"
    }
   ],
   "source": [
    "\n",
    "\n",
    "\n",
    "df_high = df.apply(lambda row: row == row.max(), axis=1).astype(int)\n",
    "\n",
    "df_high.head()\n",
    "\n",
    "def adjust_pick_values(row):\n",
    "    count = row.sum()\n",
    "    return row / count if count > 0 else row\n",
    "\n",
    "df_high_adjusted = df_high.apply(adjust_pick_values, axis=1)\n",
    "df_high_adjusted.head()\n",
    "\n",
    "\n",
    "\n"
   ]
  },
  {
   "cell_type": "code",
   "execution_count": 54,
   "metadata": {},
   "outputs": [
    {
     "data": {
      "text/plain": [
       "Text(0, 0.5, 'Count')"
      ]
     },
     "execution_count": 54,
     "metadata": {},
     "output_type": "execute_result"
    },
    {
     "data": {
      "image/png": "[encoded data removed]",
      "text/plain": [
       "<Figure size 640x480 with 1 Axes>"
      ]
     },
     "metadata": {},
     "output_type": "display_data"
    }
   ],
   "source": [
    "\n",
    "\n",
    "column_sums = df_high_adjusted.sum()\n",
    "\n",
    "ax = column_sums.plot(kind='bar')\n",
    "ax.set_title('Most Central Sectors')\n",
    "ax.set_xlabel('Sectors')\n",
    "ax.set_ylabel('Count')\n"
   ]
  },
  {
   "cell_type": "code",
   "execution_count": 55,
   "metadata": {},
   "outputs": [
    {
     "data": {
      "text/plain": [
       "Text(0, 0.5, 'Count')"
      ]
     },
     "execution_count": 55,
     "metadata": {},
     "output_type": "execute_result"
    },
    {
     "data": {
      "image/png": "[encoded data removed]",
      "text/plain": [
       "<Figure size 640x480 with 1 Axes>"
      ]
     },
     "metadata": {},
     "output_type": "display_data"
    }
   ],
   "source": [
    "\n",
    "df_low = df.eq(df.min(axis=1), axis=0).astype(int)\n",
    "\n",
    "df_low_adjusted = df_low.apply(adjust_pick_values, axis=1)\n",
    "df_low_adjusted.head()\n",
    "column_sums = df_low_adjusted.sum()\n",
    "ax = column_sums.plot(kind='bar')\n",
    "ax.set_title('Most Secluded Sectors')\n",
    "ax.set_xlabel('Sectors')\n",
    "ax.set_ylabel('Count')\n",
    "\n"
   ]
  },
  {
   "cell_type": "code",
   "execution_count": 56,
   "metadata": {},
   "outputs": [
    {
     "name": "stdout",
     "output_type": "stream",
     "text": [
      "[*********************100%%**********************]  10 of 10 completed\n"
     ]
    },
    {
     "data": {
      "text/plain": [
       "0.5651419035615418"
      ]
     },
     "execution_count": 56,
     "metadata": {},
     "output_type": "execute_result"
    }
   ],
   "source": [
    "import yfinance as yf\n",
    "\n",
    "\n",
    "tickers = ['XLY', 'XLP', 'XLE', 'XLF', 'XLV', 'XLI', 'XLB', 'XLRE', 'XLK', 'XLC']\n",
    "\n",
    "# Download historical data for the tickers\n",
    "data = yf.download(tickers, start='2018-11-30', end='2022-12-31')\n",
    "\n",
    "# Calculate the monthly returns\n",
    "monthly_returns = data['Adj Close'].resample('M').ffill().pct_change().dropna()\n",
    "\n",
    "monthly_returns.head()\n",
    "\n",
    "\n",
    "picked_returns = monthly_returns * df_high_adjusted\n",
    "\n",
    "picked_returns.head()\n",
    "\n",
    "picked_returns.sum()\n",
    "\n",
    "sum_of_each_value = picked_returns.sum().sum()\n",
    "central_strat=sum_of_each_value\n",
    "sum_of_each_value\n"
   ]
  },
  {
   "cell_type": "markdown",
   "metadata": {},
   "source": [
    "We see that this strategy has a return of 0.5651424415948498. "
   ]
  },
  {
   "cell_type": "code",
   "execution_count": 57,
   "metadata": {},
   "outputs": [
    {
     "data": {
      "text/plain": [
       "0.7398029634587346"
      ]
     },
     "execution_count": 57,
     "metadata": {},
     "output_type": "execute_result"
    }
   ],
   "source": [
    "picked_returns = monthly_returns * df_low_adjusted\n",
    "picked_returns.head()\n",
    "sum_of_each_value = picked_returns.sum().sum()\n",
    "sum_of_each_value"
   ]
  },
  {
   "cell_type": "markdown",
   "metadata": {},
   "source": [
    "At first we think these returns are amazing but keep in mind this is all driven by energy and is likely just an outlier."
   ]
  },
  {
   "cell_type": "code",
   "execution_count": 58,
   "metadata": {},
   "outputs": [
    {
     "data": {
      "text/plain": [
       "<Axes: >"
      ]
     },
     "execution_count": 58,
     "metadata": {},
     "output_type": "execute_result"
    },
    {
     "data": {
      "image/png": "[encoded data removed]",
      "text/plain": [
       "<Figure size 640x480 with 1 Axes>"
      ]
     },
     "metadata": {},
     "output_type": "display_data"
    }
   ],
   "source": [
    "picked_returns.sum().plot(kind='bar')\n"
   ]
  },
  {
   "cell_type": "code",
   "execution_count": 59,
   "metadata": {},
   "outputs": [
    {
     "data": {
      "text/plain": [
       "0.12646301072841104"
      ]
     },
     "execution_count": 59,
     "metadata": {},
     "output_type": "execute_result"
    }
   ],
   "source": [
    "sum_of_each_value_without_xle = picked_returns.sum().drop('XLE')\n",
    "total_sum = sum_of_each_value_without_xle.sum()\n",
    "decentral_strat=total_sum\n",
    "total_sum\n"
   ]
  },
  {
   "cell_type": "markdown",
   "metadata": {},
   "source": [
    "Once we take into account energy we get a return,0.12646274442521532, in line with our expectations. Lastly we consider a purely random agent."
   ]
  },
  {
   "cell_type": "code",
   "execution_count": 60,
   "metadata": {},
   "outputs": [
    {
     "data": {
      "text/html": [
       "<div>\n",
       "<style scoped>\n",
       "    .dataframe tbody tr th:only-of-type {\n",
       "        vertical-align: middle;\n",
       "    }\n",
       "\n",
       "    .dataframe tbody tr th {\n",
       "        vertical-align: top;\n",
       "    }\n",
       "\n",
       "    .dataframe thead th {\n",
       "        text-align: right;\n",
       "    }\n",
       "</style>\n",
       "<table border=\"1\" class=\"dataframe\">\n",
       "  <thead>\n",
       "    <tr style=\"text-align: right;\">\n",
       "      <th></th>\n",
       "      <th>XLC</th>\n",
       "      <th>XLY</th>\n",
       "      <th>XLP</th>\n",
       "      <th>XLE</th>\n",
       "      <th>XLF</th>\n",
       "      <th>XLI</th>\n",
       "      <th>XLB</th>\n",
       "      <th>XLRE</th>\n",
       "      <th>XLV</th>\n",
       "      <th>XLK</th>\n",
       "      <th>XLU</th>\n",
       "    </tr>\n",
       "    <tr>\n",
       "      <th>Date</th>\n",
       "      <th></th>\n",
       "      <th></th>\n",
       "      <th></th>\n",
       "      <th></th>\n",
       "      <th></th>\n",
       "      <th></th>\n",
       "      <th></th>\n",
       "      <th></th>\n",
       "      <th></th>\n",
       "      <th></th>\n",
       "      <th></th>\n",
       "    </tr>\n",
       "  </thead>\n",
       "  <tbody>\n",
       "    <tr>\n",
       "      <th>2018-12-31</th>\n",
       "      <td>0.1</td>\n",
       "      <td>0.1</td>\n",
       "      <td>0.1</td>\n",
       "      <td>0.1</td>\n",
       "      <td>0.1</td>\n",
       "      <td>0.1</td>\n",
       "      <td>0.1</td>\n",
       "      <td>0.1</td>\n",
       "      <td>0.1</td>\n",
       "      <td>0.1</td>\n",
       "      <td>0.1</td>\n",
       "    </tr>\n",
       "    <tr>\n",
       "      <th>2019-01-31</th>\n",
       "      <td>0.1</td>\n",
       "      <td>0.1</td>\n",
       "      <td>0.1</td>\n",
       "      <td>0.1</td>\n",
       "      <td>0.1</td>\n",
       "      <td>0.1</td>\n",
       "      <td>0.1</td>\n",
       "      <td>0.1</td>\n",
       "      <td>0.1</td>\n",
       "      <td>0.1</td>\n",
       "      <td>0.1</td>\n",
       "    </tr>\n",
       "    <tr>\n",
       "      <th>2019-02-28</th>\n",
       "      <td>0.1</td>\n",
       "      <td>0.1</td>\n",
       "      <td>0.1</td>\n",
       "      <td>0.1</td>\n",
       "      <td>0.1</td>\n",
       "      <td>0.1</td>\n",
       "      <td>0.1</td>\n",
       "      <td>0.1</td>\n",
       "      <td>0.1</td>\n",
       "      <td>0.1</td>\n",
       "      <td>0.1</td>\n",
       "    </tr>\n",
       "    <tr>\n",
       "      <th>2019-03-31</th>\n",
       "      <td>0.1</td>\n",
       "      <td>0.1</td>\n",
       "      <td>0.1</td>\n",
       "      <td>0.1</td>\n",
       "      <td>0.1</td>\n",
       "      <td>0.1</td>\n",
       "      <td>0.1</td>\n",
       "      <td>0.1</td>\n",
       "      <td>0.1</td>\n",
       "      <td>0.1</td>\n",
       "      <td>0.1</td>\n",
       "    </tr>\n",
       "    <tr>\n",
       "      <th>2019-04-30</th>\n",
       "      <td>0.1</td>\n",
       "      <td>0.1</td>\n",
       "      <td>0.1</td>\n",
       "      <td>0.1</td>\n",
       "      <td>0.1</td>\n",
       "      <td>0.1</td>\n",
       "      <td>0.1</td>\n",
       "      <td>0.1</td>\n",
       "      <td>0.1</td>\n",
       "      <td>0.1</td>\n",
       "      <td>0.1</td>\n",
       "    </tr>\n",
       "  </tbody>\n",
       "</table>\n",
       "</div>"
      ],
      "text/plain": [
       "            XLC  XLY  XLP  XLE  XLF  XLI  XLB  XLRE  XLV  XLK  XLU\n",
       "Date                                                              \n",
       "2018-12-31  0.1  0.1  0.1  0.1  0.1  0.1  0.1   0.1  0.1  0.1  0.1\n",
       "2019-01-31  0.1  0.1  0.1  0.1  0.1  0.1  0.1   0.1  0.1  0.1  0.1\n",
       "2019-02-28  0.1  0.1  0.1  0.1  0.1  0.1  0.1   0.1  0.1  0.1  0.1\n",
       "2019-03-31  0.1  0.1  0.1  0.1  0.1  0.1  0.1   0.1  0.1  0.1  0.1\n",
       "2019-04-30  0.1  0.1  0.1  0.1  0.1  0.1  0.1   0.1  0.1  0.1  0.1"
      ]
     },
     "execution_count": 60,
     "metadata": {},
     "output_type": "execute_result"
    }
   ],
   "source": [
    "df_random = pd.DataFrame(0.1, index=df_high_adjusted.index, columns=df_high_adjusted.columns)\n",
    "df_random.head()"
   ]
  },
  {
   "cell_type": "code",
   "execution_count": 61,
   "metadata": {},
   "outputs": [
    {
     "data": {
      "image/png": "[encoded data removed]",
      "text/plain": [
       "<Figure size 640x480 with 1 Axes>"
      ]
     },
     "metadata": {},
     "output_type": "display_data"
    }
   ],
   "source": [
    "\n",
    "picked_returns = monthly_returns * df_random\n",
    "\n",
    "picked_returns.head()\n",
    "picked_returns.sum().plot(kind='bar')\n",
    "sum_of_each_value = picked_returns.sum().sum()"
   ]
  },
  {
   "cell_type": "code",
   "execution_count": 62,
   "metadata": {},
   "outputs": [
    {
     "data": {
      "text/plain": [
       "0.4042715702002316"
      ]
     },
     "execution_count": 62,
     "metadata": {},
     "output_type": "execute_result"
    }
   ],
   "source": [
    "sum_of_each_value_without_xle = picked_returns.sum().drop('XLE')\n",
    "total_sum = sum_of_each_value_without_xle.sum()\n",
    "rand_strat=total_sum\n",
    "total_sum\n",
    "\n"
   ]
  },
  {
   "cell_type": "markdown",
   "metadata": {},
   "source": [
    "We see that the strategy performs just the same as a completely random agent"
   ]
  },
  {
   "cell_type": "code",
   "execution_count": 64,
   "metadata": {},
   "outputs": [
    {
     "data": {
      "image/png": "[encoded data removed]",
      "text/plain": [
       "<Figure size 640x480 with 1 Axes>"
      ]
     },
     "metadata": {},
     "output_type": "display_data"
    }
   ],
   "source": [
    "import matplotlib.pyplot as plt\n",
    "\n",
    "# Values\n",
    "values = [rand_strat, central_strat, decentral_strat]\n",
    "\n",
    "# Labels\n",
    "labels = ['Random Strategy', 'Central Strategy', 'Decentral Strategy']\n",
    "\n",
    "# Plotting\n",
    "plt.bar(labels, values)\n",
    "plt.xlabel('Strategy')\n",
    "plt.ylabel('Cumulative Returns')\n",
    "plt.title('Comparison of Strategies')\n",
    "plt.show()\n"
   ]
  },
  {
   "cell_type": "markdown",
   "metadata": {},
   "source": [
    "we see our strategy in fact works"
   ]
  }
 ],
 "metadata": {
  "kernelspec": {
   "display_name": "Python 3",
   "language": "python",
   "name": "python3"
  },
  "language_info": {
   "codemirror_mode": {
    "name": "ipython",
    "version": 3
   },
   "file_extension": ".py",
   "mimetype": "text/x-python",
   "name": "python",
   "nbconvert_exporter": "python",
   "pygments_lexer": "ipython3",
   "version": "3.11.6"
  }
 },
 "nbformat": 4,
 "nbformat_minor": 2
}
