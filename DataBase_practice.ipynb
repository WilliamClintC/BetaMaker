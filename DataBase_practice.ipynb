{
 "cells": [
  {
   "cell_type": "code",
   "execution_count": 2,
   "metadata": {},
   "outputs": [],
   "source": [
    "import pymysql\n",
    "from database_py  import DatabaseUBCTG"
   ]
  },
  {
   "cell_type": "code",
   "execution_count": 3,
   "metadata": {},
   "outputs": [
    {
     "name": "stdout",
     "output_type": "stream",
     "text": [
      "CPU times: user 7.72 s, sys: 870 ms, total: 8.59 s\n",
      "Wall time: 1min 3s\n"
     ]
    },
    {
     "data": {
      "text/html": [
       "<div>\n",
       "<style scoped>\n",
       "    .dataframe tbody tr th:only-of-type {\n",
       "        vertical-align: middle;\n",
       "    }\n",
       "\n",
       "    .dataframe tbody tr th {\n",
       "        vertical-align: top;\n",
       "    }\n",
       "\n",
       "    .dataframe thead th {\n",
       "        text-align: right;\n",
       "    }\n",
       "</style>\n",
       "<table border=\"1\" class=\"dataframe\">\n",
       "  <thead>\n",
       "    <tr style=\"text-align: right;\">\n",
       "      <th></th>\n",
       "      <th>Permno</th>\n",
       "      <th>Ticker</th>\n",
       "      <th>Date</th>\n",
       "      <th>Returns</th>\n",
       "    </tr>\n",
       "  </thead>\n",
       "  <tbody>\n",
       "    <tr>\n",
       "      <th>0</th>\n",
       "      <td>10026</td>\n",
       "      <td>JJSF</td>\n",
       "      <td>2020-01-02</td>\n",
       "      <td>-0.014055</td>\n",
       "    </tr>\n",
       "    <tr>\n",
       "      <th>1</th>\n",
       "      <td>10026</td>\n",
       "      <td>JJSF</td>\n",
       "      <td>2020-01-03</td>\n",
       "      <td>0.017779</td>\n",
       "    </tr>\n",
       "    <tr>\n",
       "      <th>2</th>\n",
       "      <td>10026</td>\n",
       "      <td>JJSF</td>\n",
       "      <td>2020-01-06</td>\n",
       "      <td>0.000865</td>\n",
       "    </tr>\n",
       "    <tr>\n",
       "      <th>3</th>\n",
       "      <td>10026</td>\n",
       "      <td>JJSF</td>\n",
       "      <td>2020-01-07</td>\n",
       "      <td>-0.011023</td>\n",
       "    </tr>\n",
       "    <tr>\n",
       "      <th>4</th>\n",
       "      <td>10026</td>\n",
       "      <td>JJSF</td>\n",
       "      <td>2020-01-08</td>\n",
       "      <td>-0.005409</td>\n",
       "    </tr>\n",
       "  </tbody>\n",
       "</table>\n",
       "</div>"
      ],
      "text/plain": [
       "   Permno Ticker        Date   Returns\n",
       "0   10026   JJSF  2020-01-02 -0.014055\n",
       "1   10026   JJSF  2020-01-03  0.017779\n",
       "2   10026   JJSF  2020-01-06  0.000865\n",
       "3   10026   JJSF  2020-01-07 -0.011023\n",
       "4   10026   JJSF  2020-01-08 -0.005409"
      ]
     },
     "execution_count": 3,
     "metadata": {},
     "output_type": "execute_result"
    }
   ],
   "source": [
    "%%time\n",
    "start_date = '2020-01-01'\n",
    "end_date = '2020-04-01'\n",
    "\n",
    "db = DatabaseUBCTG()\n",
    "\n",
    "df = db.get_returns_universe(start=start_date, end=end_date)\n",
    "df.head() "
   ]
  },
  {
   "cell_type": "code",
   "execution_count": 4,
   "metadata": {},
   "outputs": [
    {
     "data": {
      "text/html": [
       "<div>\n",
       "<style scoped>\n",
       "    .dataframe tbody tr th:only-of-type {\n",
       "        vertical-align: middle;\n",
       "    }\n",
       "\n",
       "    .dataframe tbody tr th {\n",
       "        vertical-align: top;\n",
       "    }\n",
       "\n",
       "    .dataframe thead th {\n",
       "        text-align: right;\n",
       "    }\n",
       "</style>\n",
       "<table border=\"1\" class=\"dataframe\">\n",
       "  <thead>\n",
       "    <tr style=\"text-align: right;\">\n",
       "      <th></th>\n",
       "      <th>Permno</th>\n",
       "      <th>Ticker</th>\n",
       "      <th>Date</th>\n",
       "      <th>Returns</th>\n",
       "    </tr>\n",
       "  </thead>\n",
       "  <tbody>\n",
       "    <tr>\n",
       "      <th>480751</th>\n",
       "      <td>93436</td>\n",
       "      <td>TSLA</td>\n",
       "      <td>2020-03-26</td>\n",
       "      <td>-0.020566</td>\n",
       "    </tr>\n",
       "    <tr>\n",
       "      <th>480752</th>\n",
       "      <td>93436</td>\n",
       "      <td>TSLA</td>\n",
       "      <td>2020-03-27</td>\n",
       "      <td>-0.026128</td>\n",
       "    </tr>\n",
       "    <tr>\n",
       "      <th>480753</th>\n",
       "      <td>93436</td>\n",
       "      <td>TSLA</td>\n",
       "      <td>2020-03-30</td>\n",
       "      <td>-0.023777</td>\n",
       "    </tr>\n",
       "    <tr>\n",
       "      <th>480754</th>\n",
       "      <td>93436</td>\n",
       "      <td>TSLA</td>\n",
       "      <td>2020-03-31</td>\n",
       "      <td>0.043554</td>\n",
       "    </tr>\n",
       "    <tr>\n",
       "      <th>480755</th>\n",
       "      <td>93436</td>\n",
       "      <td>TSLA</td>\n",
       "      <td>2020-04-01</td>\n",
       "      <td>-0.080992</td>\n",
       "    </tr>\n",
       "  </tbody>\n",
       "</table>\n",
       "</div>"
      ],
      "text/plain": [
       "        Permno Ticker        Date   Returns\n",
       "480751   93436   TSLA  2020-03-26 -0.020566\n",
       "480752   93436   TSLA  2020-03-27 -0.026128\n",
       "480753   93436   TSLA  2020-03-30 -0.023777\n",
       "480754   93436   TSLA  2020-03-31  0.043554\n",
       "480755   93436   TSLA  2020-04-01 -0.080992"
      ]
     },
     "execution_count": 4,
     "metadata": {},
     "output_type": "execute_result"
    }
   ],
   "source": [
    "df.tail()"
   ]
  },
  {
   "cell_type": "code",
   "execution_count": null,
   "metadata": {},
   "outputs": [],
   "source": []
  }
 ],
 "metadata": {
  "kernelspec": {
   "display_name": "Python 3",
   "language": "python",
   "name": "python3"
  },
  "language_info": {
   "codemirror_mode": {
    "name": "ipython",
    "version": 3
   },
   "file_extension": ".py",
   "mimetype": "text/x-python",
   "name": "python",
   "nbconvert_exporter": "python",
   "pygments_lexer": "ipython3",
   "version": "3.9.6"
  }
 },
 "nbformat": 4,
 "nbformat_minor": 2
}
