{
 "cells": [
  {
   "cell_type": "markdown",
   "metadata": {},
   "source": [
    "In this notebook we will investigate weather centrality trading works."
   ]
  },
  {
   "cell_type": "code",
   "execution_count": 282,
   "metadata": {},
   "outputs": [
    {
     "data": {
      "text/html": [
       "<div>\n",
       "<style scoped>\n",
       "    .dataframe tbody tr th:only-of-type {\n",
       "        vertical-align: middle;\n",
       "    }\n",
       "\n",
       "    .dataframe tbody tr th {\n",
       "        vertical-align: top;\n",
       "    }\n",
       "\n",
       "    .dataframe thead th {\n",
       "        text-align: right;\n",
       "    }\n",
       "</style>\n",
       "<table border=\"1\" class=\"dataframe\">\n",
       "  <thead>\n",
       "    <tr style=\"text-align: right;\">\n",
       "      <th></th>\n",
       "      <th>XLY</th>\n",
       "      <th>XLP</th>\n",
       "      <th>XLE</th>\n",
       "      <th>XLF</th>\n",
       "      <th>XLV</th>\n",
       "      <th>XLI</th>\n",
       "      <th>XLB</th>\n",
       "      <th>XLRE</th>\n",
       "      <th>XLK</th>\n",
       "      <th>XLC</th>\n",
       "    </tr>\n",
       "    <tr>\n",
       "      <th>Date</th>\n",
       "      <th></th>\n",
       "      <th></th>\n",
       "      <th></th>\n",
       "      <th></th>\n",
       "      <th></th>\n",
       "      <th></th>\n",
       "      <th></th>\n",
       "      <th></th>\n",
       "      <th></th>\n",
       "      <th></th>\n",
       "    </tr>\n",
       "  </thead>\n",
       "  <tbody>\n",
       "    <tr>\n",
       "      <th>2018-12-31</th>\n",
       "      <td>0.461461</td>\n",
       "      <td>0.015715</td>\n",
       "      <td>0.167934</td>\n",
       "      <td>0.389741</td>\n",
       "      <td>0.328264</td>\n",
       "      <td>0.433057</td>\n",
       "      <td>0.328264</td>\n",
       "      <td>0.077192</td>\n",
       "      <td>0.256092</td>\n",
       "      <td>0.363473</td>\n",
       "    </tr>\n",
       "    <tr>\n",
       "      <th>2019-01-31</th>\n",
       "      <td>0.430764</td>\n",
       "      <td>0.071763</td>\n",
       "      <td>0.194731</td>\n",
       "      <td>0.412543</td>\n",
       "      <td>0.272217</td>\n",
       "      <td>0.371445</td>\n",
       "      <td>0.350135</td>\n",
       "      <td>0.205588</td>\n",
       "      <td>0.331109</td>\n",
       "      <td>0.338545</td>\n",
       "    </tr>\n",
       "    <tr>\n",
       "      <th>2019-02-28</th>\n",
       "      <td>0.453413</td>\n",
       "      <td>0.053343</td>\n",
       "      <td>0.211860</td>\n",
       "      <td>0.378407</td>\n",
       "      <td>0.287695</td>\n",
       "      <td>0.329882</td>\n",
       "      <td>0.407780</td>\n",
       "      <td>0.291002</td>\n",
       "      <td>0.272329</td>\n",
       "      <td>0.294575</td>\n",
       "    </tr>\n",
       "    <tr>\n",
       "      <th>2019-03-31</th>\n",
       "      <td>0.421705</td>\n",
       "      <td>0.027866</td>\n",
       "      <td>0.377552</td>\n",
       "      <td>0.284708</td>\n",
       "      <td>0.144690</td>\n",
       "      <td>0.420600</td>\n",
       "      <td>0.367695</td>\n",
       "      <td>0.151818</td>\n",
       "      <td>0.354007</td>\n",
       "      <td>0.341138</td>\n",
       "    </tr>\n",
       "    <tr>\n",
       "      <th>2019-04-30</th>\n",
       "      <td>0.362043</td>\n",
       "      <td>0.125904</td>\n",
       "      <td>0.379552</td>\n",
       "      <td>0.379552</td>\n",
       "      <td>0.122463</td>\n",
       "      <td>0.379073</td>\n",
       "      <td>0.379073</td>\n",
       "      <td>0.020338</td>\n",
       "      <td>0.362043</td>\n",
       "      <td>0.362043</td>\n",
       "    </tr>\n",
       "  </tbody>\n",
       "</table>\n",
       "</div>"
      ],
      "text/plain": [
       "                 XLY       XLP       XLE       XLF       XLV       XLI  \\\n",
       "Date                                                                     \n",
       "2018-12-31  0.461461  0.015715  0.167934  0.389741  0.328264  0.433057   \n",
       "2019-01-31  0.430764  0.071763  0.194731  0.412543  0.272217  0.371445   \n",
       "2019-02-28  0.453413  0.053343  0.211860  0.378407  0.287695  0.329882   \n",
       "2019-03-31  0.421705  0.027866  0.377552  0.284708  0.144690  0.420600   \n",
       "2019-04-30  0.362043  0.125904  0.379552  0.379552  0.122463  0.379073   \n",
       "\n",
       "                 XLB      XLRE       XLK       XLC  \n",
       "Date                                                \n",
       "2018-12-31  0.328264  0.077192  0.256092  0.363473  \n",
       "2019-01-31  0.350135  0.205588  0.331109  0.338545  \n",
       "2019-02-28  0.407780  0.291002  0.272329  0.294575  \n",
       "2019-03-31  0.367695  0.151818  0.354007  0.341138  \n",
       "2019-04-30  0.379073  0.020338  0.362043  0.362043  "
      ]
     },
     "execution_count": 282,
     "metadata": {},
     "output_type": "execute_result"
    }
   ],
   "source": [
    "import pandas as pd\n",
    "\n",
    "# Specify the file path\n",
    "file_path = 'CentralityData1.xlsx'\n",
    "\n",
    "# Read the Excel file\n",
    "df = pd.read_excel(file_path)\n",
    "df\n",
    "\n",
    "df = df.set_index('Unnamed: 0')\n",
    "\n",
    "df = df.rename_axis('Date')\n",
    "df.head()\n"
   ]
  },
  {
   "cell_type": "code",
   "execution_count": 283,
   "metadata": {},
   "outputs": [
    {
     "data": {
      "text/html": [
       "<div>\n",
       "<style scoped>\n",
       "    .dataframe tbody tr th:only-of-type {\n",
       "        vertical-align: middle;\n",
       "    }\n",
       "\n",
       "    .dataframe tbody tr th {\n",
       "        vertical-align: top;\n",
       "    }\n",
       "\n",
       "    .dataframe thead th {\n",
       "        text-align: right;\n",
       "    }\n",
       "</style>\n",
       "<table border=\"1\" class=\"dataframe\">\n",
       "  <thead>\n",
       "    <tr style=\"text-align: right;\">\n",
       "      <th></th>\n",
       "      <th>XLY</th>\n",
       "      <th>XLP</th>\n",
       "      <th>XLE</th>\n",
       "      <th>XLF</th>\n",
       "      <th>XLV</th>\n",
       "      <th>XLI</th>\n",
       "      <th>XLB</th>\n",
       "      <th>XLRE</th>\n",
       "      <th>XLK</th>\n",
       "      <th>XLC</th>\n",
       "    </tr>\n",
       "    <tr>\n",
       "      <th>Date</th>\n",
       "      <th></th>\n",
       "      <th></th>\n",
       "      <th></th>\n",
       "      <th></th>\n",
       "      <th></th>\n",
       "      <th></th>\n",
       "      <th></th>\n",
       "      <th></th>\n",
       "      <th></th>\n",
       "      <th></th>\n",
       "    </tr>\n",
       "  </thead>\n",
       "  <tbody>\n",
       "    <tr>\n",
       "      <th>2018-12-31</th>\n",
       "      <td>1.0</td>\n",
       "      <td>0.0</td>\n",
       "      <td>0.0</td>\n",
       "      <td>0.0</td>\n",
       "      <td>0.0</td>\n",
       "      <td>0.0</td>\n",
       "      <td>0.0</td>\n",
       "      <td>0.0</td>\n",
       "      <td>0.0</td>\n",
       "      <td>0.0</td>\n",
       "    </tr>\n",
       "    <tr>\n",
       "      <th>2019-01-31</th>\n",
       "      <td>1.0</td>\n",
       "      <td>0.0</td>\n",
       "      <td>0.0</td>\n",
       "      <td>0.0</td>\n",
       "      <td>0.0</td>\n",
       "      <td>0.0</td>\n",
       "      <td>0.0</td>\n",
       "      <td>0.0</td>\n",
       "      <td>0.0</td>\n",
       "      <td>0.0</td>\n",
       "    </tr>\n",
       "    <tr>\n",
       "      <th>2019-02-28</th>\n",
       "      <td>1.0</td>\n",
       "      <td>0.0</td>\n",
       "      <td>0.0</td>\n",
       "      <td>0.0</td>\n",
       "      <td>0.0</td>\n",
       "      <td>0.0</td>\n",
       "      <td>0.0</td>\n",
       "      <td>0.0</td>\n",
       "      <td>0.0</td>\n",
       "      <td>0.0</td>\n",
       "    </tr>\n",
       "    <tr>\n",
       "      <th>2019-03-31</th>\n",
       "      <td>1.0</td>\n",
       "      <td>0.0</td>\n",
       "      <td>0.0</td>\n",
       "      <td>0.0</td>\n",
       "      <td>0.0</td>\n",
       "      <td>0.0</td>\n",
       "      <td>0.0</td>\n",
       "      <td>0.0</td>\n",
       "      <td>0.0</td>\n",
       "      <td>0.0</td>\n",
       "    </tr>\n",
       "    <tr>\n",
       "      <th>2019-04-30</th>\n",
       "      <td>0.0</td>\n",
       "      <td>0.0</td>\n",
       "      <td>0.5</td>\n",
       "      <td>0.5</td>\n",
       "      <td>0.0</td>\n",
       "      <td>0.0</td>\n",
       "      <td>0.0</td>\n",
       "      <td>0.0</td>\n",
       "      <td>0.0</td>\n",
       "      <td>0.0</td>\n",
       "    </tr>\n",
       "  </tbody>\n",
       "</table>\n",
       "</div>"
      ],
      "text/plain": [
       "            XLY  XLP  XLE  XLF  XLV  XLI  XLB  XLRE  XLK  XLC\n",
       "Date                                                         \n",
       "2018-12-31  1.0  0.0  0.0  0.0  0.0  0.0  0.0   0.0  0.0  0.0\n",
       "2019-01-31  1.0  0.0  0.0  0.0  0.0  0.0  0.0   0.0  0.0  0.0\n",
       "2019-02-28  1.0  0.0  0.0  0.0  0.0  0.0  0.0   0.0  0.0  0.0\n",
       "2019-03-31  1.0  0.0  0.0  0.0  0.0  0.0  0.0   0.0  0.0  0.0\n",
       "2019-04-30  0.0  0.0  0.5  0.5  0.0  0.0  0.0   0.0  0.0  0.0"
      ]
     },
     "execution_count": 283,
     "metadata": {},
     "output_type": "execute_result"
    }
   ],
   "source": [
    "\n",
    "\n",
    "\n",
    "df_high = df.apply(lambda row: row == row.max(), axis=1).astype(int)\n",
    "\n",
    "df_high.head()\n",
    "\n",
    "def adjust_pick_values(row):\n",
    "    count = row.sum()\n",
    "    return row / count if count > 0 else row\n",
    "\n",
    "df_high_adjusted = df_high.apply(adjust_pick_values, axis=1)\n",
    "df_high_adjusted.head()\n",
    "\n",
    "\n",
    "\n"
   ]
  },
  {
   "cell_type": "code",
   "execution_count": 284,
   "metadata": {},
   "outputs": [
    {
     "data": {
      "text/plain": [
       "Text(0, 0.5, 'Count')"
      ]
     },
     "execution_count": 284,
     "metadata": {},
     "output_type": "execute_result"
    },
    {
     "data": {
      "image/png": "[encoded data removed]",
      "text/plain": [
       "<Figure size 640x480 with 1 Axes>"
      ]
     },
     "metadata": {},
     "output_type": "display_data"
    }
   ],
   "source": [
    "\n",
    "\n",
    "column_sums = df_high_adjusted.sum()\n",
    "\n",
    "ax = column_sums.plot(kind='bar')\n",
    "ax.set_title('Most Central Sectors')\n",
    "ax.set_xlabel('Sectors')\n",
    "ax.set_ylabel('Count')\n"
   ]
  },
  {
   "cell_type": "code",
   "execution_count": 280,
   "metadata": {},
   "outputs": [
    {
     "data": {
      "text/plain": [
       "Text(0, 0.5, 'Count')"
      ]
     },
     "execution_count": 280,
     "metadata": {},
     "output_type": "execute_result"
    },
    {
     "data": {
      "image/png": "[encoded data removed]",
      "text/plain": [
       "<Figure size 640x480 with 1 Axes>"
      ]
     },
     "metadata": {},
     "output_type": "display_data"
    }
   ],
   "source": [
    "\n",
    "df_low = df.eq(df.min(axis=1), axis=0).astype(int)\n",
    "\n",
    "df_low_adjusted = df_low.apply(adjust_pick_values, axis=1)\n",
    "df_low_adjusted.head()\n",
    "column_sums = df_low_adjusted.sum()\n",
    "ax = column_sums.plot(kind='bar')\n",
    "ax.set_title('Most Secluded Sectors')\n",
    "ax.set_xlabel('Sectors')\n",
    "ax.set_ylabel('Count')\n",
    "\n"
   ]
  },
  {
   "cell_type": "code",
   "execution_count": 294,
   "metadata": {},
   "outputs": [
    {
     "name": "stdout",
     "output_type": "stream",
     "text": [
      "[*********************100%%**********************]  10 of 10 completed\n"
     ]
    },
    {
     "data": {
      "text/plain": [
       "0.4051743410268895"
      ]
     },
     "execution_count": 294,
     "metadata": {},
     "output_type": "execute_result"
    }
   ],
   "source": [
    "import yfinance as yf\n",
    "\n",
    "\n",
    "tickers = ['XLY', 'XLP', 'XLE', 'XLF', 'XLV', 'XLI', 'XLB', 'XLRE', 'XLK', 'XLC']\n",
    "\n",
    "# Download historical data for the tickers\n",
    "data = yf.download(tickers, start='2018-11-30', end='2022-12-31')\n",
    "\n",
    "# Calculate the monthly returns\n",
    "monthly_returns = data['Adj Close'].resample('M').ffill().pct_change().dropna()\n",
    "\n",
    "monthly_returns.head()\n",
    "\n",
    "\n",
    "picked_returns = monthly_returns * df_high_adjusted\n",
    "\n",
    "picked_returns.head()\n",
    "\n",
    "picked_returns.sum()\n",
    "\n",
    "sum_of_each_value = picked_returns.sum().sum()\n",
    "sum_of_each_value\n"
   ]
  },
  {
   "cell_type": "markdown",
   "metadata": {},
   "source": [
    "We see that this strategy has a return of 0.40517323106052944"
   ]
  },
  {
   "cell_type": "code",
   "execution_count": 295,
   "metadata": {},
   "outputs": [
    {
     "data": {
      "text/plain": [
       "1.3616741756623487"
      ]
     },
     "execution_count": 295,
     "metadata": {},
     "output_type": "execute_result"
    }
   ],
   "source": [
    "picked_returns = monthly_returns * df_low_adjusted\n",
    "picked_returns.head()\n",
    "sum_of_each_value = picked_returns.sum().sum()\n",
    "sum_of_each_value"
   ]
  },
  {
   "cell_type": "markdown",
   "metadata": {},
   "source": [
    "At first we think these returns are amazing but keep in mind this is all driven by energy and is likely just an outlier."
   ]
  },
  {
   "cell_type": "code",
   "execution_count": 296,
   "metadata": {},
   "outputs": [
    {
     "data": {
      "text/plain": [
       "<Axes: >"
      ]
     },
     "execution_count": 296,
     "metadata": {},
     "output_type": "execute_result"
    },
    {
     "data": {
      "image/png": "[encoded data removed]",
      "text/plain": [
       "<Figure size 640x480 with 1 Axes>"
      ]
     },
     "metadata": {},
     "output_type": "display_data"
    }
   ],
   "source": [
    "picked_returns.sum().plot(kind='bar')\n"
   ]
  },
  {
   "cell_type": "code",
   "execution_count": 276,
   "metadata": {},
   "outputs": [
    {
     "data": {
      "text/plain": [
       "0.3294655589448184"
      ]
     },
     "execution_count": 276,
     "metadata": {},
     "output_type": "execute_result"
    }
   ],
   "source": [
    "sum_of_each_value_without_xle = picked_returns.sum().drop('XLE')\n",
    "total_sum = sum_of_each_value_without_xle.sum()\n",
    "total_sum\n",
    "\n"
   ]
  },
  {
   "cell_type": "markdown",
   "metadata": {},
   "source": [
    "Once we take into account energy we get a return in line with our expectations. Lastly we consider a purely random agent."
   ]
  },
  {
   "cell_type": "code",
   "execution_count": 286,
   "metadata": {},
   "outputs": [
    {
     "data": {
      "text/html": [
       "<div>\n",
       "<style scoped>\n",
       "    .dataframe tbody tr th:only-of-type {\n",
       "        vertical-align: middle;\n",
       "    }\n",
       "\n",
       "    .dataframe tbody tr th {\n",
       "        vertical-align: top;\n",
       "    }\n",
       "\n",
       "    .dataframe thead th {\n",
       "        text-align: right;\n",
       "    }\n",
       "</style>\n",
       "<table border=\"1\" class=\"dataframe\">\n",
       "  <thead>\n",
       "    <tr style=\"text-align: right;\">\n",
       "      <th></th>\n",
       "      <th>XLY</th>\n",
       "      <th>XLP</th>\n",
       "      <th>XLE</th>\n",
       "      <th>XLF</th>\n",
       "      <th>XLV</th>\n",
       "      <th>XLI</th>\n",
       "      <th>XLB</th>\n",
       "      <th>XLRE</th>\n",
       "      <th>XLK</th>\n",
       "      <th>XLC</th>\n",
       "    </tr>\n",
       "    <tr>\n",
       "      <th>Date</th>\n",
       "      <th></th>\n",
       "      <th></th>\n",
       "      <th></th>\n",
       "      <th></th>\n",
       "      <th></th>\n",
       "      <th></th>\n",
       "      <th></th>\n",
       "      <th></th>\n",
       "      <th></th>\n",
       "      <th></th>\n",
       "    </tr>\n",
       "  </thead>\n",
       "  <tbody>\n",
       "    <tr>\n",
       "      <th>2018-12-31</th>\n",
       "      <td>0.1</td>\n",
       "      <td>0.1</td>\n",
       "      <td>0.1</td>\n",
       "      <td>0.1</td>\n",
       "      <td>0.1</td>\n",
       "      <td>0.1</td>\n",
       "      <td>0.1</td>\n",
       "      <td>0.1</td>\n",
       "      <td>0.1</td>\n",
       "      <td>0.1</td>\n",
       "    </tr>\n",
       "    <tr>\n",
       "      <th>2019-01-31</th>\n",
       "      <td>0.1</td>\n",
       "      <td>0.1</td>\n",
       "      <td>0.1</td>\n",
       "      <td>0.1</td>\n",
       "      <td>0.1</td>\n",
       "      <td>0.1</td>\n",
       "      <td>0.1</td>\n",
       "      <td>0.1</td>\n",
       "      <td>0.1</td>\n",
       "      <td>0.1</td>\n",
       "    </tr>\n",
       "    <tr>\n",
       "      <th>2019-02-28</th>\n",
       "      <td>0.1</td>\n",
       "      <td>0.1</td>\n",
       "      <td>0.1</td>\n",
       "      <td>0.1</td>\n",
       "      <td>0.1</td>\n",
       "      <td>0.1</td>\n",
       "      <td>0.1</td>\n",
       "      <td>0.1</td>\n",
       "      <td>0.1</td>\n",
       "      <td>0.1</td>\n",
       "    </tr>\n",
       "    <tr>\n",
       "      <th>2019-03-31</th>\n",
       "      <td>0.1</td>\n",
       "      <td>0.1</td>\n",
       "      <td>0.1</td>\n",
       "      <td>0.1</td>\n",
       "      <td>0.1</td>\n",
       "      <td>0.1</td>\n",
       "      <td>0.1</td>\n",
       "      <td>0.1</td>\n",
       "      <td>0.1</td>\n",
       "      <td>0.1</td>\n",
       "    </tr>\n",
       "    <tr>\n",
       "      <th>2019-04-30</th>\n",
       "      <td>0.1</td>\n",
       "      <td>0.1</td>\n",
       "      <td>0.1</td>\n",
       "      <td>0.1</td>\n",
       "      <td>0.1</td>\n",
       "      <td>0.1</td>\n",
       "      <td>0.1</td>\n",
       "      <td>0.1</td>\n",
       "      <td>0.1</td>\n",
       "      <td>0.1</td>\n",
       "    </tr>\n",
       "  </tbody>\n",
       "</table>\n",
       "</div>"
      ],
      "text/plain": [
       "            XLY  XLP  XLE  XLF  XLV  XLI  XLB  XLRE  XLK  XLC\n",
       "Date                                                         \n",
       "2018-12-31  0.1  0.1  0.1  0.1  0.1  0.1  0.1   0.1  0.1  0.1\n",
       "2019-01-31  0.1  0.1  0.1  0.1  0.1  0.1  0.1   0.1  0.1  0.1\n",
       "2019-02-28  0.1  0.1  0.1  0.1  0.1  0.1  0.1   0.1  0.1  0.1\n",
       "2019-03-31  0.1  0.1  0.1  0.1  0.1  0.1  0.1   0.1  0.1  0.1\n",
       "2019-04-30  0.1  0.1  0.1  0.1  0.1  0.1  0.1   0.1  0.1  0.1"
      ]
     },
     "execution_count": 286,
     "metadata": {},
     "output_type": "execute_result"
    }
   ],
   "source": [
    "df_random = pd.DataFrame(0.1, index=df_high_adjusted.index, columns=df_high_adjusted.columns)\n",
    "df_random.head()"
   ]
  },
  {
   "cell_type": "code",
   "execution_count": 297,
   "metadata": {},
   "outputs": [
    {
     "data": {
      "image/png": "[encoded data removed]",
      "text/plain": [
       "<Figure size 640x480 with 1 Axes>"
      ]
     },
     "metadata": {},
     "output_type": "display_data"
    }
   ],
   "source": [
    "\n",
    "picked_returns = monthly_returns * df_random\n",
    "\n",
    "picked_returns.head()\n",
    "picked_returns.sum().plot(kind='bar')\n",
    "sum_of_each_value = picked_returns.sum().sum()"
   ]
  },
  {
   "cell_type": "code",
   "execution_count": 293,
   "metadata": {},
   "outputs": [
    {
     "data": {
      "text/plain": [
       "0.4042715372672127"
      ]
     },
     "execution_count": 293,
     "metadata": {},
     "output_type": "execute_result"
    }
   ],
   "source": [
    "sum_of_each_value_without_xle = picked_returns.sum().drop('XLE')\n",
    "total_sum = sum_of_each_value_without_xle.sum()\n",
    "total_sum\n",
    "\n"
   ]
  },
  {
   "cell_type": "markdown",
   "metadata": {},
   "source": [
    "We see that the strategy performs just the same as a completely random agent"
   ]
  },
  {
   "cell_type": "code",
   "execution_count": null,
   "metadata": {},
   "outputs": [],
   "source": []
  }
 ],
 "metadata": {
  "kernelspec": {
   "display_name": "Python 3",
   "language": "python",
   "name": "python3"
  },
  "language_info": {
   "codemirror_mode": {
    "name": "ipython",
    "version": 3
   },
   "file_extension": ".py",
   "mimetype": "text/x-python",
   "name": "python",
   "nbconvert_exporter": "python",
   "pygments_lexer": "ipython3",
   "version": "3.11.6"
  }
 },
 "nbformat": 4,
 "nbformat_minor": 2
}
